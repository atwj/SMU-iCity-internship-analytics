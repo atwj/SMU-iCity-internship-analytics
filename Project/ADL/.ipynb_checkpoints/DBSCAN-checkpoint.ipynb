{
 "cells": [
  {
   "cell_type": "markdown",
   "metadata": {},
   "source": [
    "DBSCAN\n",
    "===============\n",
    "_Density-based spatial clustering of applications with noise_\n",
    "***\n",
    "\n",
    "TODO: Explanantion of DBSCAN\n",
    "\n",
    "Clustering Of _Waking-up_ and _Sleep_ timings\n",
    "=================\n",
    "*****************\n",
    "The following algorithm below will cluster sleep periods using the [DBSCAN algorithm](http://scikit-learn.org/stable/modules/generated/sklearn.cluster.DBSCAN.html#sklearn.cluster.DBSCAN) from the [scikit-learn library](http://scikit-learn.org/)\n",
    "\n",
    "Input data requirements\n",
    "---------------------\n",
    "****\n",
    "The data input is expected to follow the following format:\n",
    "\n",
    "<table>\n",
    "<th>TODO</th>\n",
    "</table>"
   ]
  },
  {
   "cell_type": "code",
   "execution_count": 2,
   "metadata": {
    "collapsed": true
   },
   "outputs": [],
   "source": [
    "%matplotlib inline\n",
    "###########################################IMPRORTS#########################################\n",
    "import pandas as pd\n",
    "import numpy as np\n",
    "import matplotlib.pyplot as plt\n",
    "import time\n",
    "from math import pi\n",
    "from sklearn.cluster import DBSCAN\n",
    "###########################################IMPRORTS#########################################\n",
    "\n",
    "\n",
    "# To return value in mins / total mins in one day\n",
    "def to_mins(x):\n",
    "    x = pd.Timestamp(x)\n",
    "    year = x.year\n",
    "    month =  x.month\n",
    "    day = x.day\n",
    "    return (x.value - pd.Timestamp(str(year)+'-'+str(month)+'-'+str(day)).value) / (60 * (10**9))\n",
    "\n",
    "# Helper method to convert values to radian\n",
    "def convert_to_radian(x):\n",
    "    return ((x / (24*60)) * 2 * pi)\n",
    "\n",
    "# Returns a distance matrix (a numpy array)\n",
    "def get_x_from_df(series):\n",
    "    print(series.head())\n",
    "    \n",
    "    # Vectorizing to_mins and to_radian functions\n",
    "    tmin = np.vectorize(to_mins)\n",
    "    trad = np.vectorize(convert_to_radian)\n",
    "\n",
    "    # Converting series of timestamp -> minutes / total minuites in a day -> radian\n",
    "    input_rad = trad(tmin(series))\n",
    "\n",
    "    # Convert time to rad points   \n",
    "    X = input_rad[None,:] - input_rad[:,None]\n",
    "\n",
    "    # Assign 'shortest distance to each point\n",
    "    X[((X > pi) & (X <= (2*pi)))] = X[((X > pi) & (X <= (2*pi)))] -(2*pi)\n",
    "    X[((X > (-2*pi)) & (X <= (-1*pi)))] = X[((X > (-2*pi)) & (X <= (-1*pi)))] + (2*pi) \n",
    "    X = abs(X)\n",
    "\n",
    "    return X,input_rad\n",
    "\n",
    "# Returns output from sklearn DBSCAN method\n",
    "def dbscan(eps, min_pts, X, metric='precomputed'):\n",
    "    db = DBSCAN(eps, min_pts, metric)\n",
    "    db.fit(X)\n",
    "    return db.labels_, db.components_, db.core_sample_indices_\n",
    "\n",
    "# TODO:\n",
    "# 1. Research on methods to identify EPS.\n",
    "# 2. Implement that method\n",
    "def calculate_eps():\n",
    "    pass\n",
    "\n",
    "def configure_polar_plot(axes):\n",
    "    xticklabels = [str(x) for x in range (0,24)]\n",
    "    axes.set_xticks(np.linspace(0,23,24,endpoint=True, dtype=np.int32) / 24 * (2 * np.pi))\n",
    "    axes.set_xticklabels(xticklabels)\n",
    "    axes.set_theta_zero_location('N')\n",
    "    axes.set_theta_direction(-1)\n",
    "    return axes\n"
   ]
  },
  {
   "cell_type": "code",
   "execution_count": 7,
   "metadata": {
    "collapsed": false
   },
   "outputs": [
    {
     "name": "stdout",
     "output_type": "stream",
     "text": [
      "File name:  sleep/sleep-aggregate_2015-07_S001.csv\n",
      "['sleep_start', 'sleep_end', 'sleep_duration', 'num_interrupts', 'sleep_start_date']\n"
     ]
    }
   ],
   "source": [
    "# Code\n",
    "# Start timer:\n",
    "time_now = time.time()\n",
    "\n",
    "### Globals ###\n",
    "file_dir = 'sleep'\n",
    "file_name = ''.join([file_dir,'/','sleep-aggregate_2015-07_S001.csv'])\n",
    "\n",
    "# print file name\n",
    "print('File name: ', file_name)\n",
    "\n",
    "# Get dataframe containing readings from sensor reading, exclude \n",
    "df = pd.read_csv(file_name, delimiter=',', usecols=[x for x in range(1,7)],parse_dates=[1])\n",
    "column_names = list(df.columns.values)\n",
    "print(column_names)"
   ]
  },
  {
   "cell_type": "code",
   "execution_count": null,
   "metadata": {
    "collapsed": true
   },
   "outputs": [],
   "source": []
  }
 ],
 "metadata": {
  "kernelspec": {
   "display_name": "Python 3",
   "language": "python",
   "name": "python3"
  },
  "language_info": {
   "codemirror_mode": {
    "name": "ipython",
    "version": 3
   },
   "file_extension": ".py",
   "mimetype": "text/x-python",
   "name": "python",
   "nbconvert_exporter": "python",
   "pygments_lexer": "ipython3",
   "version": "3.5.1"
  }
 },
 "nbformat": 4,
 "nbformat_minor": 0
}
