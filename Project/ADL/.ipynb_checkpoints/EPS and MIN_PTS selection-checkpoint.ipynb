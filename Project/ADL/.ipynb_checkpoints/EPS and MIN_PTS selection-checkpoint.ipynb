{
 "cells": [
  {
   "cell_type": "markdown",
   "metadata": {},
   "source": [
    "Choosing _eps_ and *minPts* parameters for DBSCAN\n",
    "---------------------------------------------------\n",
    "\n",
    "DBSCAN requires two parameters, _eps_ and _min_pts_\n",
    "\n",
    "Some ideas to explore\n",
    "1. *Knee* selection algorithm\n",
    "\n",
    "The idea behind *'knee'* selection process:\n",
    "1. We look at the distance from each point to its $k^{th}$ nearest neighbour. We will call this distance $\\abs{k}\\$.\n",
    "2. By calculating the $k-dist$ of a selected $k$ value and then sorting the values in increasing values of $k-dist$\n"
   ]
  },
  {
   "cell_type": "code",
   "execution_count": null,
   "metadata": {
    "collapsed": true
   },
   "outputs": [],
   "source": []
  }
 ],
 "metadata": {
  "kernelspec": {
   "display_name": "Python 3",
   "language": "python",
   "name": "python3"
  },
  "language_info": {
   "codemirror_mode": {
    "name": "ipython",
    "version": 3
   },
   "file_extension": ".py",
   "mimetype": "text/x-python",
   "name": "python",
   "nbconvert_exporter": "python",
   "pygments_lexer": "ipython3",
   "version": "3.5.1"
  }
 },
 "nbformat": 4,
 "nbformat_minor": 0
}
