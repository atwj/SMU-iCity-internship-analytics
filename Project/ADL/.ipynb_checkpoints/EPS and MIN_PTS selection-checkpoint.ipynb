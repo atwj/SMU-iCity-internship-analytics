{
 "cells": [
  {
   "cell_type": "markdown",
   "metadata": {},
   "source": [
    "Choosing _eps_ and *minPts* parameters for DBSCAN\n",
    "=================================\n",
    "\n",
    "DBSCAN requires two parameters, _eps_ and _min_pts_\n",
    "\n",
    "Some ideas to explore\n",
    "--------------------------\n",
    "1. *Knee* selection algorithm\n",
    "2. OPTICS algorithm\n",
    "3. BDE-DBSCAN\n",
    "\n",
    "The idea behind *'knee'* selection process:\n",
    "----------------------------------\n",
    "1. We look at the distance from each point to its $k^{th}$ nearest neighbour. We will call this distance $\\mid k\\mid$.\n",
    "2. By calculating $\\mid k\\mid$ of a selected $k$ value and then sorting the values in increasing values of $\\mid k\\mid$ we can find an appropriate value for _eps_ by finding the value of $\\mid k\\mid$ where $f''(|k|) = 0$\n",
    "\n",
    "Source: *\"Selection of DBSCAN Parameters\"*, http://www-users.cs.umn.edu/~kumar/dmbook/ch8.pdf\n",
    "\n",
    "The idea behind OPTICS algorithm:\n",
    "------------------------------------\n",
    "**OPTICS** stands for *Ordering Points To Identify Clustering Structure*\n",
    "\n",
    "*TODO*\n",
    "\n",
    "The idea behind BDE-DBSCAN\n",
    "--------------------------\n",
    "Using Differential Evolutionary algorithm to determine *eps* and *minPts* value using a cluster purity function to determine the *fitness* of a cluster in a population\n",
    "\n",
    "Purity function: http://nlp.stanford.edu/IR-book/html/htmledition/evaluation-of-clustering-1.html#eqn:purity\n",
    "\n",
    "BDE-DBSCAN: http://research.ijcaonline.org/volume91/number7/pxc3895059.pdf"
   ]
  },
  {
   "cell_type": "code",
   "execution_count": 2,
   "metadata": {
    "collapsed": false
   },
   "outputs": [],
   "source": [
    "import pandas as pd\n",
    "import numpy as np\n",
    "import helper_adl as h\n",
    "import matplotlib.pyplot as plt\n",
    "import time\n",
    "from sklearn.cluster import DBSCAN"
   ]
  },
  {
   "cell_type": "code",
   "execution_count": 33,
   "metadata": {
    "collapsed": false
   },
   "outputs": [
    {
     "name": "stdout",
     "output_type": "stream",
     "text": [
      "['sleep_start', 'sleep_end', 'sleep_duration', 'num_interrupts', 'sleep_start_date', 'sleep_end_date']\n",
      "Size of X1 first row 44\n",
      "1936\n",
      "1892\n",
      "<class 'numpy.ndarray'>\n",
      "[806 346 186 122 104 100  68  28  62  70]\n",
      "<class 'numpy.ndarray'>\n",
      "0.31\n",
      "True\n",
      "True\n",
      "[ 7  6  1  1  0  1  1  1  1 25]\n",
      "[  1.    3.8   6.6   9.4  12.2  15.   17.8  20.6  23.4  26.2  29. ]\n",
      "[ 0.    0.31  0.63  0.94  1.25  1.56  1.88  2.19  2.5   2.82  3.13]\n"
     ]
    },
    {
     "data": {
      "image/png": "[encoded data removed]",
      "text/plain": [
       "<matplotlib.figure.Figure at 0x119c64d30>"
      ]
     },
     "metadata": {},
     "output_type": "display_data"
    },
    {
     "data": {
      "image/png": "[encoded data removed]",
      "text/plain": [
       "<matplotlib.figure.Figure at 0x119f76908>"
      ]
     },
     "metadata": {},
     "output_type": "display_data"
    }
   ],
   "source": [
    "%matplotlib inline\n",
    "# Plot out on histogram\n",
    "\n",
    "# Choose eps value, rounded up\n",
    "\n",
    "# Given the eps value, for each point, calculate number of neighbours.\n",
    "# Plot out the number of neighbours.\n",
    "# Choose min_pts\n",
    "# Code\n",
    "# Start timer:\n",
    "time_now = time.time()\n",
    "\n",
    "### Globals ###\n",
    "file_dir = 'sleep'\n",
    "# Perform clustering on files 1 to 10\n",
    "# indexes = [str(x) for x in range(1,10)]\n",
    "# index = '3'\n",
    "\n",
    "file_name = ''.join([file_dir,'/','sleep-aggregate_2016-01_S033.csv'])\n",
    "# print file name\n",
    "# print('File name: ', file_name)\n",
    "\n",
    "# Get dataframe containing readings from sensor reading, exclude \n",
    "df = pd.read_csv(file_name, delimiter=',', usecols=[x for x in range(1,7)],parse_dates=[1])\n",
    "column_names = list(df.columns.values)\n",
    "print(column_names)\n",
    "\n",
    "############ Knee selection #############\n",
    "\n",
    "# Calculate eps distance for each point\n",
    "# X is a distance matrix.\n",
    "# Set 'X1' as sleep_start timings\n",
    "\n",
    "\n",
    "X1,X1_rad_series = h.get_x_from_df(df['sleep_start'])\n",
    "\n",
    "# Set 'X2' as sleep_end timings\n",
    "X2,X2_rad_series = h.get_x_from_df(df['sleep_end'])\n",
    "\n",
    "print('Size of X1 first row', len(X1[0]))\n",
    "# Flatten matrix, remove 0\n",
    "X1_array = X1.flatten()\n",
    "\n",
    "print(X1_array.size)\n",
    "\n",
    "# Get non-zeros; To remove distance from a point to itself\n",
    "X1_array_non_zeros = X1_array.nonzero()\n",
    "print(X1_array_non_zeros[0].size) \n",
    "\n",
    "# Mask out non zeros\n",
    "X1_array = X1_array[X1_array_non_zeros]\n",
    "\n",
    "# Sanity check; Check data type\n",
    "print(type(X1_array))\n",
    "\n",
    "# Generate histogram\n",
    "hist, bin_edges = np.histogram(X1_array, density=False)\n",
    "\n",
    "print(hist)\n",
    "print(type(bin_edges))\n",
    "\n",
    "bin_edges = np.around(bin_edges, 2)\n",
    "# Select a eps naively...\n",
    "eps = bin_edges[1]\n",
    "print(eps)\n",
    "# TODO count of nearest neighbours within eps range\n",
    "count_minPts = []\n",
    "for x in X1:\n",
    "    count_minPts.append(len(np.where(x <= eps)[0]))\n",
    "\n",
    "# Sanity check:\n",
    "print(len(np.where(X1[0] <= eps)[0]) == count_minPts[0])\n",
    "\n",
    "# Generate histogram for minPts\n",
    "hist_mp,bin_edges_mp = np.histogram(count_minPts, density=False)\n",
    "\n",
    "# Express bin_edges in mins\n",
    "time_labels = np.around(h.radian_to_mins(bin_edges), 0)\n",
    "\n",
    "# Sanity check: Check if helper methods conver values accurately\n",
    "y = 15 # mins\n",
    "print(y == h.radian_to_mins(h.convert_to_radian(y))) # Must be true.\n",
    "\n",
    "# print(time_labels)\n",
    "print(hist_mp)\n",
    "print(bin_edges_mp)\n",
    "print(bin_edges)\n",
    "fig = plt.figure(figsize=(8,8))\n",
    "fig2 = plt.figure(figsize=(8,8))\n",
    "ax1 = fig.add_subplot(111)\n",
    "ax1.hist(X1_array, bins=bin_edges)\n",
    "# ax1.plot(np.cumsum(hist))\n",
    "ax1.set_xticklabels(time_labels)\n",
    "ax2 = fig2.add_subplot(111)\n",
    "# ax2.plot(np.cumsum(hist_mp))\n",
    "ax2.hist(count_minPts, bins=bin_edges_mp)\n",
    "\n",
    "\n",
    "plt.show()\n",
    "\n"
   ]
  }
 ],
 "metadata": {
  "kernelspec": {
   "display_name": "Python 3",
   "language": "python",
   "name": "python3"
  },
  "language_info": {
   "codemirror_mode": {
    "name": "ipython",
    "version": 3
   },
   "file_extension": ".py",
   "mimetype": "text/x-python",
   "name": "python",
   "nbconvert_exporter": "python",
   "pygments_lexer": "ipython3",
   "version": "3.5.1"
  }
 },
 "nbformat": 4,
 "nbformat_minor": 0
}
