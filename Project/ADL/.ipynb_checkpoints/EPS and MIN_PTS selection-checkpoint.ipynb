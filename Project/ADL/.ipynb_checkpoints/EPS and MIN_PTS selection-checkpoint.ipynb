{
 "cells": [
  {
   "cell_type": "markdown",
   "metadata": {},
   "source": [
    "Choosing _eps_ and *minPts* parameters for DBSCAN\n",
    "=================================\n",
    "\n",
    "DBSCAN requires two parameters, _eps_ and _min_pts_\n",
    "\n",
    "Some ideas to explore\n",
    "--------------------------\n",
    "1. *Knee* selection algorithm\n",
    "2. OPTICS algorithm\n",
    "3. BDE-DBSCAN\n",
    "\n",
    "The idea behind *'knee'* selection process:\n",
    "----------------------------------\n",
    "1. We look at the distance from each point to its $k^{th}$ nearest neighbour. We will call this distance $\\mid k\\mid$.\n",
    "2. By calculating $\\mid k\\mid$ of a selected $k$ value and then sorting the values in increasing values of $\\mid k\\mid$ we can find an appropriate value for _eps_ by finding the value of $\\mid k\\mid$ where $f''(|k|) = 0$\n",
    "\n",
    "Source: *\"Selection of DBSCAN Parameters\"*, http://www-users.cs.umn.edu/~kumar/dmbook/ch8.pdf\n",
    "\n",
    "The idea behind OPTICS algorithm:\n",
    "------------------------------------\n",
    "**OPTICS** stands for *Ordering Points To Identify Clustering Structure*\n",
    "\n",
    "*TODO*\n",
    "\n",
    "The idea behind BDE-DBSCAN\n",
    "--------------------------\n",
    "Using Differential Evolutionary algorithm to determine *eps* and *minPts* value using a cluster purity function to determine the *fitness* of a cluster in a population\n",
    "\n",
    "Purity function: http://nlp.stanford.edu/IR-book/html/htmledition/evaluation-of-clustering-1.html#eqn:purity\n",
    "\n",
    "BDE-DBSCAN: http://research.ijcaonline.org/volume91/number7/pxc3895059.pdf"
   ]
  },
  {
   "cell_type": "code",
   "execution_count": 11,
   "metadata": {
    "collapsed": true
   },
   "outputs": [],
   "source": [
    "########## Knee selection #############\n",
    "\n",
    "# Pseudocode:\n",
    "\n",
    "# Calculate eps distance for each point\n",
    "# Plot out on histogram\n",
    "\n",
    "# Choose eps value, rounded up\n",
    "\n",
    "# Given the eps value, for each point, calculate number of neighbours.\n",
    "# Plot out the number of neighbours.\n",
    "# Choose min_pts\n"
   ]
  },
  {
   "cell_type": "code",
   "execution_count": 12,
   "metadata": {
    "collapsed": true
   },
   "outputs": [],
   "source": [
    "import pandas as pd\n",
    "import numpy as np\n",
    "import helper_adl as h\n",
    "import matplotlib.pyplot as plt\n",
    "import time\n",
    "from sklearn.cluster import DBSCAN"
   ]
  },
  {
   "cell_type": "code",
   "execution_count": 13,
   "metadata": {
    "collapsed": true
   },
   "outputs": [],
   "source": [
    "# Returns output from sklearn DBSCAN method\n",
    "def dbscan(eps, min_pts, X, metric='precomputed'):\n",
    "    db = DBSCAN(eps, min_pts, metric)\n",
    "    db.fit(X)\n",
    "    return db.labels_, db.components_, db.core_sample_indices_\n",
    "\n",
    "# TODO:\n",
    "# 1. Research on methods to identify EPS.\n",
    "# 2. Implement that method\n",
    "def calculate_eps():\n",
    "    pass\n",
    "\n",
    "def configure_polar_plot(axes):\n",
    "    xticklabels = [str(x) for x in range (0,24)]\n",
    "    axes.set_xticks(np.linspace(0,23,24,endpoint=True, dtype=np.int32) / 24 * (2 * np.pi))\n",
    "    axes.set_xticklabels(xticklabels)\n",
    "    axes.set_theta_zero_location('N')\n",
    "    axes.set_theta_direction(-1)\n",
    "    axes.set_ylim([0,1])\n",
    "    axes.set_yticks([0.8,0.6])\n",
    "    axes.set_yticklabels(['Sleep-Start', 'Sleep-End'])\n",
    "    \n",
    "    return axes\n",
    "\n",
    "def plot_clusters(labels, rad_tseries, axes, ring):\n",
    "    unique_labels = set(labels)\n",
    "    colors = plt.cm.Spectral(np.linspace(0, 1, len(unique_labels)))\n",
    "    for k,col in zip(unique_labels, colors):\n",
    "        marker = '.'\n",
    "        ms = 30.0\n",
    "        if k == -1:\n",
    "            col='k'\n",
    "            marker = 'x'\n",
    "            ms = 8.0\n",
    "\n",
    "        indices_of_k, = np.where(labels == k)\n",
    "        data = rad_tseries.take(indices_of_k)\n",
    "        axes.plot(data, [ring for x in data], color=col, marker=marker, linestyle='none', ms=ms, mec='k')"
   ]
  },
  {
   "cell_type": "code",
   "execution_count": 14,
   "metadata": {
    "collapsed": false
   },
   "outputs": [
    {
     "name": "stdout",
     "output_type": "stream",
     "text": [
      "['sleep_start', 'sleep_end', 'sleep_duration', 'num_interrupts', 'sleep_start_date', 'sleep_end_date']\n",
      "[[ 0.          2.29648969  1.22216681 ...,  2.42840749  2.99614855\n",
      "   0.47363873]\n",
      " [ 2.29648969  0.          2.76452881 ...,  0.1319178   0.99054707\n",
      "   2.77012841]\n",
      " [ 1.22216681  2.76452881  0.         ...,  2.63261101  1.77398174\n",
      "   0.74852808]\n",
      " ..., \n",
      " [ 2.42840749  0.1319178   2.63261101 ...,  0.          0.85862927\n",
      "   2.90204621]\n",
      " [ 2.99614855  0.99054707  1.77398174 ...,  0.85862927  0.          2.52250982]\n",
      " [ 0.47363873  2.77012841  0.74852808 ...,  2.90204621  2.52250982  0.        ]]\n"
     ]
    }
   ],
   "source": [
    "# Code\n",
    "# Start timer:\n",
    "time_now = time.time()\n",
    "\n",
    "### Globals ###\n",
    "file_dir = 'sleep'\n",
    "# Perform clustering on files 1 to 10\n",
    "# indexes = [str(x) for x in range(1,10)]\n",
    "index = '1'\n",
    "\n",
    "file_name = ''.join([file_dir,'/','sleep-aggregate_2015-07_S00'+index+'.csv'])\n",
    "# print file name\n",
    "# print('File name: ', file_name)\n",
    "\n",
    "# Get dataframe containing readings from sensor reading, exclude \n",
    "df = pd.read_csv(file_name, delimiter=',', usecols=[x for x in range(1,7)],parse_dates=[1])\n",
    "column_names = list(df.columns.values)\n",
    "print(column_names)\n",
    "\n",
    "# X is a distance matrix.\n",
    "# Set 'X1' as sleep_start timings\n",
    "X1,X1_rad_series = h.get_x_from_df(df['sleep_start'])\n",
    "\n",
    "# Set 'X2' as sleep_end timings\n",
    "X2,X2_rad_series = h.get_x_from_df(df['sleep_end'])"
   ]
  }
 ],
 "metadata": {
  "kernelspec": {
   "display_name": "Python 3",
   "language": "python",
   "name": "python3"
  },
  "language_info": {
   "codemirror_mode": {
    "name": "ipython",
    "version": 3
   },
   "file_extension": ".py",
   "mimetype": "text/x-python",
   "name": "python",
   "nbconvert_exporter": "python",
   "pygments_lexer": "ipython3",
   "version": "3.5.1"
  }
 },
 "nbformat": 4,
 "nbformat_minor": 0
}
