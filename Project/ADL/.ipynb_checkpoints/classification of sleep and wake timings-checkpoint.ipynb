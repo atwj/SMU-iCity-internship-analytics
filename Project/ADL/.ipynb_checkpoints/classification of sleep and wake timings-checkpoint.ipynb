{
 "cells": [
  {
   "cell_type": "code",
   "execution_count": 12,
   "metadata": {
    "collapsed": true
   },
   "outputs": [],
   "source": [
    "import pandas as pd\n",
    "import numpy as np\n",
    "import helper_adl as h\n",
    "import matplotlib.pyplot as plt\n",
    "import time\n",
    "from math import pi\n",
    "from sklearn.cluster import DBSCAN"
   ]
  },
  {
   "cell_type": "code",
   "execution_count": 11,
   "metadata": {
    "collapsed": false
   },
   "outputs": [],
   "source": [
    "# Returns output from sklearn DBSCAN method\n",
    "def dbscan(eps, min_pts, X, metric='precomputed'):\n",
    "    db = DBSCAN(eps, min_pts, metric)\n",
    "    db.fit(X)\n",
    "    return db.labels_, db.components_, db.core_sample_indices_\n",
    "\n",
    "# TODO:\n",
    "# 1. Research on methods to identify EPS.\n",
    "# 2. Implement that method\n",
    "def calculate_eps():\n",
    "    pass\n",
    "\n",
    "def configure_polar_plot(axes):\n",
    "    xticklabels = [str(x) for x in range (0,24)]\n",
    "    axes.set_xticks(np.linspace(0,23,24,endpoint=True, dtype=np.int32) / 24 * (2 * np.pi))\n",
    "    axes.set_xticklabels(xticklabels)\n",
    "    axes.set_theta_zero_location('N')\n",
    "    axes.set_theta_direction(-1)\n",
    "    axes.set_ylim([0,1])\n",
    "    axes.set_yticks([0.8,0.6])\n",
    "    axes.set_yticklabels(['Sleep-Start', 'Sleep-End'])\n",
    "    \n",
    "    return axes\n",
    "\n",
    "def plot_clusters(labels, rad_tseries, axes, ring):\n",
    "    unique_labels = set(labels)\n",
    "    colors = plt.cm.Spectral(np.linspace(0, 1, len(unique_labels)))\n",
    "    for k,col in zip(unique_labels, colors):\n",
    "        marker = '.'\n",
    "        ms = 30.0\n",
    "        if k == -1:\n",
    "            col='k'\n",
    "            marker = 'x'\n",
    "            ms = 8.0\n",
    "\n",
    "        indices_of_k, = np.where(labels == k)\n",
    "        data = rad_tseries.take(indices_of_k)\n",
    "        axes.plot(data, [ring for x in data], color=col, marker=marker, linestyle='none', ms=ms, mec='k')"
   ]
  },
  {
   "cell_type": "code",
   "execution_count": 13,
   "metadata": {
    "collapsed": false
   },
   "outputs": [
    {
     "name": "stdout",
     "output_type": "stream",
     "text": [
      "['sleep_start', 'sleep_end', 'sleep_duration', 'num_interrupts', 'sleep_start_date', 'sleep_end_date']\n",
      "0    2015-07-01 00:40:24\n",
      "1    2015-07-01 09:26:43\n",
      "2    2015-07-01 20:00:18\n",
      "3    2015-07-02 11:19:35\n",
      "4    2015-07-02 13:16:14\n",
      "Name: sleep_start, dtype: object\n",
      "0   2015-07-01 05:10:05\n",
      "1   2015-07-01 10:44:54\n",
      "2   2015-07-02 05:07:01\n",
      "3   2015-07-02 12:14:49\n",
      "4   2015-07-02 14:12:31\n",
      "Name: sleep_end, dtype: datetime64[ns]\n"
     ]
    }
   ],
   "source": [
    "# Code\n",
    "# Start timer:\n",
    "time_now = time.time()\n",
    "\n",
    "### Globals ###\n",
    "file_dir = 'sleep'\n",
    "# Perform clustering on files 1 to 10\n",
    "# indexes = [str(x) for x in range(1,10)]\n",
    "index = '1'\n",
    "\n",
    "file_name = ''.join([file_dir,'/','sleep-aggregate_2015-07_S00'+index+'.csv'])\n",
    "# print file name\n",
    "# print('File name: ', file_name)\n",
    "\n",
    "# Get dataframe containing readings from sensor reading, exclude \n",
    "df = pd.read_csv(file_name, delimiter=',', usecols=[x for x in range(1,7)],parse_dates=[1])\n",
    "column_names = list(df.columns.values)\n",
    "print(column_names)\n",
    "\n",
    "# X is a distance matrix.\n",
    "# Set 'X1' as sleep_start timings\n",
    "X1,X1_rad_series = h.get_x_from_df(df['sleep_start'])\n",
    "\n",
    "# Set 'X2' as sleep_end timings\n",
    "X2,X2_rad_series = h.get_x_from_df(df['sleep_end'])\n",
    "\n",
    "# print(X1)"
   ]
  }
 ],
 "metadata": {
  "kernelspec": {
   "display_name": "Python 3",
   "language": "python",
   "name": "python3"
  },
  "language_info": {
   "codemirror_mode": {
    "name": "ipython",
    "version": 3
   },
   "file_extension": ".py",
   "mimetype": "text/x-python",
   "name": "python",
   "nbconvert_exporter": "python",
   "pygments_lexer": "ipython3",
   "version": "3.5.1"
  }
 },
 "nbformat": 4,
 "nbformat_minor": 0
}
