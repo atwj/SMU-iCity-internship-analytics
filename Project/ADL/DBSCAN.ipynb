{
 "cells": [
  {
   "cell_type": "markdown",
   "metadata": {},
   "source": [
    "DBSCAN\n",
    "===============\n",
    "_Density-based spatial clustering of applications with noise_\n",
    "***\n",
    "\n",
    "TODO: Explanantion of DBSCAN\n",
    "\n",
    "Clustering Of _Waking-up_ and _Sleep_ timings\n",
    "=================\n",
    "*****************\n",
    "The following algorithm below will cluster sleep periods using the [DBSCAN algorithm](http://scikit-learn.org/stable/modules/generated/sklearn.cluster.DBSCAN.html#sklearn.cluster.DBSCAN) from the [scikit-learn library](http://scikit-learn.org/)\n",
    "\n",
    "Input data requirements\n",
    "---------------------\n",
    "****\n",
    "The data input is expected to follow the following format:\n",
    "\n",
    "<table>\n",
    "<th>TODO</th>\n",
    "</table>"
   ]
  },
  {
   "cell_type": "code",
   "execution_count": null,
   "metadata": {
    "collapsed": true
   },
   "outputs": [],
   "source": [
    "%matplotlib inline\n",
    "###########################################IMPRORTS#########################################\n",
    "import pandas as pd\n",
    "import numpy as np\n",
    "import matplotlib.pyplot as plt\n",
    "import time\n",
    "from math import pi\n",
    "from sklearn.cluster import DBSCAN\n",
    "###########################################IMPRORTS#########################################\n",
    "\n",
    "\n",
    "# To return value in mins / total mins in one day\n",
    "def to_mins(x):\n",
    "    x = pd.Timestamp(x)\n",
    "    year = x.year\n",
    "    month =  x.month\n",
    "    day = x.day\n",
    "    return (x.value - pd.Timestamp(str(year)+'-'+str(month)+'-'+str(day)).value) / (60 * (10**9))\n",
    "\n",
    "# Helper method to convert values to radian\n",
    "def convert_to_radian(x):\n",
    "    return ((x / (24*60)) * 2 * pi)\n",
    "\n"
   ]
  }
 ],
 "metadata": {
  "kernelspec": {
   "display_name": "Python 3",
   "language": "python",
   "name": "python3"
  },
  "language_info": {
   "codemirror_mode": {
    "name": "ipython",
    "version": 3
   },
   "file_extension": ".py",
   "mimetype": "text/x-python",
   "name": "python",
   "nbconvert_exporter": "python",
   "pygments_lexer": "ipython3",
   "version": "3.5.1"
  }
 },
 "nbformat": 4,
 "nbformat_minor": 0
}
