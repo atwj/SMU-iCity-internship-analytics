{
 "cells": [
  {
   "cell_type": "markdown",
   "metadata": {},
   "source": [
    "Choosing _eps_ and *minPts* parameters for DBSCAN\n",
    "=================================\n",
    "\n",
    "DBSCAN requires two parameters, _eps_ and _min_pts_\n",
    "\n",
    "Some ideas to explore\n",
    "--------------------------\n",
    "1. *Knee* selection algorithm\n",
    "2. OPTICS algorithm\n",
    "3. BDE-DBSCAN\n",
    "\n",
    "The idea behind *'knee'* selection process:\n",
    "----------------------------------\n",
    "1. We look at the distance from each point to its $k^{th}$ nearest neighbour. We will call this distance $\\mid k\\mid$.\n",
    "2. By calculating $\\mid k\\mid$ of a selected $k$ value and then sorting the values in increasing values of $\\mid k\\mid$ we can find an appropriate value for _eps_ by finding the value of $\\mid k\\mid$ where $f''(|k|) = 0$\n",
    "\n",
    "Source: *\"Selection of DBSCAN Parameters\"*, http://www-users.cs.umn.edu/~kumar/dmbook/ch8.pdf\n",
    "\n",
    "The idea behind OPTICS algorithm:\n",
    "------------------------------------\n",
    "**OPTICS** stands for *Ordering Points To Identify Clustering Structure*\n",
    "\n",
    "*TODO*\n",
    "\n",
    "The idea behind BDE-DBSCAN\n",
    "--------------------------\n",
    "Using Differential Evolutionary algorithm to determine *eps* and *minPts* value using a cluster purity function to determine the *fitness* of clusters in a population\n",
    "\n",
    "Purity function: http://nlp.stanford.edu/IR-book/html/htmledition/evaluation-of-clustering-1.html#eqn:purity\n",
    "\n",
    "BDE-DBSCAN: http://research.ijcaonline.org/volume91/number7/pxc3895059.pdf"
   ]
  },
  {
   "cell_type": "code",
   "execution_count": 1,
   "metadata": {
    "collapsed": true
   },
   "outputs": [],
   "source": [
    "######### BDE-DBSCAN #########"
   ]
  }
 ],
 "metadata": {
  "kernelspec": {
   "display_name": "Python 3",
   "language": "python",
   "name": "python3"
  },
  "language_info": {
   "codemirror_mode": {
    "name": "ipython",
    "version": 3
   },
   "file_extension": ".py",
   "mimetype": "text/x-python",
   "name": "python",
   "nbconvert_exporter": "python",
   "pygments_lexer": "ipython3",
   "version": "3.5.1"
  }
 },
 "nbformat": 4,
 "nbformat_minor": 0
}
