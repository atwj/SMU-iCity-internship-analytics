{
 "cells": [
  {
   "cell_type": "code",
   "execution_count": 12,
   "metadata": {
    "collapsed": true
   },
   "outputs": [],
   "source": []
  },
  {
   "cell_type": "code",
   "execution_count": 11,
   "metadata": {
    "collapsed": false
   },
   "outputs": [],
   "source": []
  },
  {
   "cell_type": "code",
   "execution_count": 14,
   "metadata": {
    "collapsed": false
   },
   "outputs": [
    {
     "name": "stdout",
     "output_type": "stream",
     "text": [
      "['sleep_start', 'sleep_end', 'sleep_duration', 'num_interrupts', 'sleep_start_date', 'sleep_end_date']\n",
      "0    2015-07-01 00:40:24\n",
      "1    2015-07-01 09:26:43\n",
      "2    2015-07-01 20:00:18\n",
      "3    2015-07-02 11:19:35\n",
      "4    2015-07-02 13:16:14\n",
      "Name: sleep_start, dtype: object\n",
      "0   2015-07-01 05:10:05\n",
      "1   2015-07-01 10:44:54\n",
      "2   2015-07-02 05:07:01\n",
      "3   2015-07-02 12:14:49\n",
      "4   2015-07-02 14:12:31\n",
      "Name: sleep_end, dtype: datetime64[ns]\n"
     ]
    }
   ],
   "source": []
  }
 ],
 "metadata": {
  "kernelspec": {
   "display_name": "Python 3",
   "language": "python",
   "name": "python3"
  },
  "language_info": {
   "codemirror_mode": {
    "name": "ipython",
    "version": 3
   },
   "file_extension": ".py",
   "mimetype": "text/x-python",
   "name": "python",
   "nbconvert_exporter": "python",
   "pygments_lexer": "ipython3",
   "version": "3.5.1"
  }
 },
 "nbformat": 4,
 "nbformat_minor": 0
}
