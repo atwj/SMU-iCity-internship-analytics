{
 "cells": [
  {
   "cell_type": "code",
   "execution_count": 23,
   "metadata": {
    "collapsed": true
   },
   "outputs": [],
   "source": [
    "%matplotlib notebook"
   ]
  },
  {
   "cell_type": "code",
   "execution_count": 38,
   "metadata": {
    "collapsed": false
   },
   "outputs": [
    {
     "name": "stdout",
     "output_type": "stream",
     "text": [
      "['s_id', 'date', 'door_contact_as', 'living_room_as', 'bedroom_as', 'bed_as', 'bathroom_as', 'kitchen_as']\n",
      "300925\n",
      "280840\n",
      "           duration\n",
      "count   8983.000000\n",
      "mean     267.256039\n",
      "std      994.754142\n",
      "min        0.000000\n",
      "25%       10.000000\n",
      "50%       39.000000\n",
      "75%      149.000000\n",
      "max    34057.000000\n",
      "Elasped Time:  13.111 seconds\n"
     ]
    }
   ],
   "source": [
    "import pandas as pd\n",
    "import numpy as np\n",
    "import matplotlib.pyplot as plt\n",
    "import time\n",
    "\n",
    "time_now = time.time()\n",
    "#function to read csv\n",
    "def read(filename='../Workspace/DATA/SensorReading_2015-10_S001.csv'):\n",
    "    df = pd.read_csv(filename, delimiter=',', usecols=[x for x in range(0,8)],parse_dates=[1])\n",
    "    return df\n",
    "\n",
    "#get dataframe containing readings from sensor reading\n",
    "df = read()\n",
    "column_names = list(df.columns.values)\n",
    "print(column_names)\n",
    "print(len(df.index))\n",
    "\n",
    "#extract 'no-activity' periods\n",
    "df = df.ix[(df['door_contact_as'] == 'No') & (df['living_room_as'] == 'No') \n",
    "                   & (df['bedroom_as'] == 'No') & (df['bed_as'] == 'No') \n",
    "                   & (df['bathroom_as'] == 'No') & (df['kitchen_as'] == 'No')]\n",
    "\n",
    "#testing code; remove later: print size of \n",
    "print(len(df.index))\n",
    "df = df.reset_index(drop=True)\n",
    "time_dict = []\n",
    "\n",
    "#just itertuples also 12+ seconds\n",
    "startTimeIndex = None\n",
    "for row in df.itertuples():\n",
    "    \n",
    "    startTimeIndex = row[0] if startTimeIndex == None else startTimeIndex\n",
    "    timestamp = row[2]\n",
    "    \n",
    "    if (row[0] + 1 < len(df.index)):\n",
    "        #check if current timestamp and next timestamp are <= 10 second time difference\n",
    "        if (df.at[row[0] + 1, 'date'] - timestamp).total_seconds() > 10:\n",
    "            startTime = df.at[startTimeIndex,'date']\n",
    "#             time_dict[str(startTime)] = (timestamp - startTime).total_seconds()\n",
    "            time_dict.append((startTime , (timestamp - startTime).total_seconds()))\n",
    "            startTimeIndex = row[0] + 1\n",
    "        \n",
    "    \n",
    "# new_df = pd.Series(time_dict)\n",
    "new_df = pd.DataFrame(time_dict, columns=['timestamp','duration'])\n",
    "print(new_df.head())\n",
    "print(new_df.describe())\n",
    "\n",
    "\n",
    "# new_df.to_csv('test.csv')\n",
    "\n",
    "\n",
    "print(\"Elasped Time: \", round(time.time() - time_now, 3), \"seconds\")"
   ]
  }
 ],
 "metadata": {
  "kernelspec": {
   "display_name": "Python 3",
   "language": "python",
   "name": "python3"
  },
  "language_info": {
   "codemirror_mode": {
    "name": "ipython",
    "version": 3
   },
   "file_extension": ".py",
   "mimetype": "text/x-python",
   "name": "python",
   "nbconvert_exporter": "python",
   "pygments_lexer": "ipython3",
   "version": "3.5.1"
  }
 },
 "nbformat": 4,
 "nbformat_minor": 0
}
