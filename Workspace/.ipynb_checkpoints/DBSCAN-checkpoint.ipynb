{
 "cells": [
  {
   "cell_type": "code",
   "execution_count": 16,
   "metadata": {
    "collapsed": true
   },
   "outputs": [],
   "source": [
    "#import libraries\n",
    "import numpy as np\n",
    "import pandas as pd\n",
    "from sklearn.cluster import DBSCAN\n",
    "from math import pi"
   ]
  },
  {
   "cell_type": "code",
   "execution_count": 17,
   "metadata": {
    "collapsed": true
   },
   "outputs": [],
   "source": [
    "def radian_function(x):\n",
    "    return ((x / (24*60)) * 2 * pi)\n",
    "\n",
    "rf = np.vectorize(radian_function)"
   ]
  },
  {
   "cell_type": "code",
   "execution_count": null,
   "metadata": {
    "collapsed": true
   },
   "outputs": [],
   "source": [
    "#prepare DBSCAN and params\n",
    "eps_mins = 5\n",
    "min_points = 10\n",
    "db = DBSCAN(rf(eps_mins), min_points, metric='precomputed')"
   ]
  },
  {
   "cell_type": "code",
   "execution_count": 19,
   "metadata": {
    "collapsed": false
   },
   "outputs": [
    {
     "name": "stdout",
     "output_type": "stream",
     "text": [
      "[  5  10  15  20  25  30  35  40  45  50  55  60  65  70  75  80  85  90\n",
      "  95 500 505 510 515 520 525 530 535 540 545 550 555 560 565 570 575 580\n",
      " 585 590 595 600 605 610 615 620 625 630 635 640 645 650 655 660 665 670\n",
      " 675 680 685 690 695 700 705 710 715 720 725 730 735 740 745 750 755 760\n",
      " 765 770 775 780 785 790 795 800 805 810 815 820 825 830 835 840 845 850\n",
      " 855 860 865 870 875 880 885 890 895 900 905 910 915 920 925 930 935 940\n",
      " 945 950 955 960 965 970 975 980 985 990 995]\n"
     ]
    }
   ],
   "source": [
    "\n",
    "cluster_1 = [x for x in range(5,100,5)]\n",
    "cluster_2 = [x for x in range(500,1000,5)]\n",
    "#cluster_3 = [x for x in range(3000, 3600, 5)]\n",
    "test_data = cluster_1 + cluster_2\n",
    "time_mins = np.array(test_data)\n",
    "#print(time_mins)"
   ]
  },
  {
   "cell_type": "code",
   "execution_count": 21,
   "metadata": {
    "collapsed": true
   },
   "outputs": [],
   "source": [
    "points_rad = rf(time_mins.copy())\n",
    "dist = points_rad[None,:] - points_rad[:,None]\n",
    "dist[((dist > pi) & (dist <= (2*pi)))] = dist[((dist > pi) & (dist <= (2*pi)))] -(2*pi)\n",
    "dist[((dist > (-2*pi)) & (dist <= (-1*pi)))] = dist[((dist > (-2*pi)) & (dist <= (-1*pi)))] + (2*pi) \n",
    "dist = abs(dist)"
   ]
  },
  {
   "cell_type": "code",
   "execution_count": null,
   "metadata": {
    "collapsed": true
   },
   "outputs": [],
   "source": [
    "db.fit(dist)\n",
    "labels = db.labels_\n",
    "n_clusters = len(set(labels)) - (1 if -1 in labels else 0)"
   ]
  }
 ],
 "metadata": {
  "kernelspec": {
   "display_name": "Python 3",
   "language": "python",
   "name": "python3"
  },
  "language_info": {
   "codemirror_mode": {
    "name": "ipython",
    "version": 3
   },
   "file_extension": ".py",
   "mimetype": "text/x-python",
   "name": "python",
   "nbconvert_exporter": "python",
   "pygments_lexer": "ipython3",
   "version": "3.5.1"
  }
 },
 "nbformat": 4,
 "nbformat_minor": 0
}
