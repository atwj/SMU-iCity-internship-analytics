{
 "cells": [
  {
   "cell_type": "code",
   "execution_count": 45,
   "metadata": {
    "collapsed": false
   },
   "outputs": [
    {
     "name": "stdout",
     "output_type": "stream",
     "text": [
      "['s_id', 'date', 'door_contact_as', 'living_room_as', 'bedroom_as', 'bed_as', 'bathroom_as', 'kitchen_as']\n",
      "300925\n",
      "280840\n"
     ]
    }
   ],
   "source": [
    "import pandas as pd\n",
    "import numpy as np\n",
    "import matplotlib.pyplot as plt\n",
    "\n",
    "#function to read csv\n",
    "def read(filename='../Workspace/DATA/SensorReading_2015-10_S001.csv'):\n",
    "\tdf = pd.read_csv(filename, delimiter=',', usecols=[x for x in range(0,8)],parse_dates=[1])\n",
    "\treturn df\n",
    "\n",
    "df = read()\n",
    "column_names = list(df.columns.values)\n",
    "print(column_names)\n",
    "print(len(df.index))\n",
    "another_df = df.ix[(df['door_contact_as'] == 'No') & (df['living_room_as'] == 'No') & (df['bedroom_as'] == 'No') & (df['bed_as'] == 'No') & (df['bathroom_as'] == 'No') & (df['kitchen_as'] == 'No')]\n",
    "\n",
    "print(len(another_df.index))\n",
    "another_df.to_csv('test.csv')\n"
   ]
  }
 ],
 "metadata": {
  "kernelspec": {
   "display_name": "Python 3",
   "language": "python",
   "name": "python3"
  },
  "language_info": {
   "codemirror_mode": {
    "name": "ipython",
    "version": 3
   },
   "file_extension": ".py",
   "mimetype": "text/x-python",
   "name": "python",
   "nbconvert_exporter": "python",
   "pygments_lexer": "ipython3",
   "version": "3.5.1"
  }
 },
 "nbformat": 4,
 "nbformat_minor": 0
}
