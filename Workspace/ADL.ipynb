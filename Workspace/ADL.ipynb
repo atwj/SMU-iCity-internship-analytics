{
 "cells": [
  {
   "cell_type": "code",
   "execution_count": 51,
   "metadata": {
    "collapsed": true
   },
   "outputs": [],
   "source": [
    "#%matplotlib notebook"
   ]
  },
  {
   "cell_type": "code",
   "execution_count": 20,
   "metadata": {
    "collapsed": false,
    "scrolled": false
   },
   "outputs": [
    {
     "name": "stdout",
     "output_type": "stream",
     "text": [
      "['s_id', 'date', 'door_contact_as', 'living_room_as', 'bedroom_as', 'bed_as', 'bathroom_as', 'kitchen_as', 'TimeDelta']\n",
      "<class 'pandas.core.series.Series'>\n",
      "<class 'pandas.core.series.Series'>\n",
      "total :  3.811\n",
      "            timestamp  duration\n",
      "0 2015-10-01 00:00:08    2912.0\n",
      "1 2015-10-01 00:48:58      30.0\n",
      "2 2015-10-01 00:49:58     229.0\n",
      "3 2015-10-01 00:54:07    4122.0\n",
      "4 2015-10-01 02:03:19       0.0\n",
      "\n",
      "           duration\n",
      "count   8983.000000\n",
      "mean     267.256039\n",
      "std      994.754142\n",
      "min        0.000000\n",
      "25%       10.000000\n",
      "50%       39.000000\n",
      "75%      149.000000\n",
      "max    34057.000000\n",
      "Elasped Time:  4.556 seconds\n"
     ]
    }
   ],
   "source": [
    "import pandas as pd\n",
    "import numpy as np\n",
    "import matplotlib.pyplot as plt\n",
    "import time\n",
    "\n",
    "time_now = time.time()\n",
    "#function to read csv\n",
    "def read(filename='../Workspace/DATA/SensorReading_2015-10_S001.csv'):\n",
    "    df = pd.read_csv(filename, delimiter=',', usecols=[x for x in range(0,8)],parse_dates=[1])\n",
    "    return df\n",
    "\n",
    "#get dataframe containing readings from sensor reading\n",
    "df = read()\n",
    "column_names = list(df.columns.values)\n",
    "\n",
    "#extract 'no-activity' periods\n",
    "df = df.ix[(df['door_contact_as'] == 'No') & (df['living_room_as'] == 'No') \n",
    "                   & (df['bedroom_as'] == 'No') & (df['bed_as'] == 'No') \n",
    "                   & (df['bathroom_as'] == 'No') & (df['kitchen_as'] == 'No')]\n",
    "#reset index\n",
    "df = df.reset_index(drop=True)\n",
    "\n",
    "#get difference between rows\n",
    "df['TimeDelta'] = pd.TimedeltaIndex(df['date'].diff().fillna(0))\n",
    "time_delta = df['TimeDelta']\n",
    "print(list(df))\n",
    "time_stamp = df['date']\n",
    "\n",
    "\n",
    "print(type(time_delta))\n",
    "print(type(time_stamp))\n",
    "\n",
    "time_dict = []\n",
    "some_time = time.time()\n",
    "\n",
    "startTime = None\n",
    "prevTime = None\n",
    "for timestamp, delta in zip(time_stamp, time_delta):\n",
    "    startTime = timestamp if startTime == None else startTime\n",
    "    if delta.total_seconds() > 10:\n",
    "        time_dict.append((startTime, (prevTime - startTime).total_seconds()))\n",
    "        startTime = timestamp\n",
    "        prevTime = timestamp\n",
    "    else:\n",
    "        prevTime = timestamp\n",
    "        \n",
    "new_df = pd.DataFrame(time_dict, columns=['timestamp','duration'])\n",
    "\n",
    "print(new_df.head())\n",
    "print()\n",
    "print(new_df.describe())\n",
    "print(\"Elasped Time: \", round(time.time() - time_now, 3), \"seconds\")"
   ]
  }
 ],
 "metadata": {
  "kernelspec": {
   "display_name": "Python 3",
   "language": "python",
   "name": "python3"
  },
  "language_info": {
   "codemirror_mode": {
    "name": "ipython",
    "version": 3
   },
   "file_extension": ".py",
   "mimetype": "text/x-python",
   "name": "python",
   "nbconvert_exporter": "python",
   "pygments_lexer": "ipython3",
   "version": "3.5.1"
  }
 },
 "nbformat": 4,
 "nbformat_minor": 0
}
